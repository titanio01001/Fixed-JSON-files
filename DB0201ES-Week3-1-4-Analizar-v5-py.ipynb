{
 "cells": [
  {
   "cell_type": "markdown",
   "metadata": {},
   "source": [
    "<a href=\"https://cognitiveclass.ai\"><img src = \"https://ibm.box.com/shared/static/ugcqz6ohbvff804xp84y4kqnvvk3bq1g.png\" width = 300, align = \"center\"></a>\n",
    "\n",
    "<h1 align=center><font size = 5>Laboratorio: Análisis de un conjunto de datos reales con SQL y Python</font></h1>"
   ]
  },
  {
   "cell_type": "markdown",
   "metadata": {},
   "source": [
    "# Introducción\n",
    "\n",
    "En este cuaderno se mostrará como almacenar un conjunto de datos (dataset) dentro de una base de datos usando SQL y Python para el análisis de los datos. En este laboratorio podrás:\n",
    "1. Entender un grupo de datos conformado por indicadores socioeconómicos de la ciudad de Chicago\n",
    "1. Aprender como almacenar datos en una base de datos Db2 usando una instancia de IBM Cloud\n",
    "1. Resolver algunos problemas de ejemplo para practicar tus habilidades en SQL\n"
   ]
  },
  {
   "cell_type": "markdown",
   "metadata": {},
   "source": [
    "## Indicadores socioeconómicos de la ciudad de Chicago\\n",
    "\\n",
    "La ciudad de Chicago dio a conocer información sobre sus indicadores socioeconómicos en el portal oficial de la ciudad. Este conjunto de datos los conforman seis indicadores sobre salud publica y un “índice de carencias” para cada área de la ciudad, desde el año 2008 al 2012.\\n",
    "\\n",
    "La puntuación de los índices de carencia puede variar desde el 1 hasta el 100, representando los números mas altos un mayor nivel de carencias.\\n",
    "\\n",
    "Una descripción detallada de los datos puede consultarse en el portal electrónico de la ciudad de Chicago\\n",
    "\\n",
    "https://data.cityofchicago.org/Health-Human-Services/Census-Data-Selected-socioeconomic-indicators-in-C/kn9c-c2s2(https://data.cityofchicago.org/Health-Human-Services/Census-Data-Selected-socioeconomic-indicators-in-C/kn9c-c2s2?cm_mmc=Email_Newsletter-_-Developer_Ed%2BTech-_-WW_WW-_-SkillsNetwork-Courses-IBMDeveloperSkillsNetwork-DB0201ES-edX-20127845&cm_mmca1=000026UJ&cm_mmca2=10006555&cm_mmca3=M12345678&cvosrc=email.Newsletter.M12345678&cvo_campaign=000026UJ&cm_mmc=Email_Newsletter-_-Developer_Ed%2BTech-_-WW_WW-_-SkillsNetwork-Courses-IBMDeveloperSkillsNetwork-DB0201ES-edX-20127845&cm_mmca1=000026UJ&cm_mmca2=10006555&cm_mmca3=M12345678&cvosrc=email.Newsletter.M12345678&cvo_campaign=000026UJ&cm_mmc=Email_Newsletter-_-Developer_Ed%2BTech-_-WW_WW-_-SkillsNetwork-Courses-IBMDeveloperSkillsNetwork-DB0201ES-edX-20127845&cm_mmca1=000026UJ&cm_mmca2=10006555&cm_mmca3=M12345678&cvosrc=email.Newsletter.M12345678&cvo_campaign=000026UJ&cm_mmc=Email_Newsletter-_-Developer_Ed%2BTech-_-WW_WW-_-SkillsNetwork-Courses-IBMDeveloperSkillsNetwork-DB0201ES-edX-20127845&cm_mmca1=000026UJ&cm_mmca2=10006555&cm_mmca3=M12345678&cvosrc=email.Newsletter.M12345678&cvo_campaign=000026UJ&cm_mmc=Email_Newsletter-_-Developer_Ed%2BTech-_-WW_WW-_-SkillsNetwork-Courses-IBMDeveloperSkillsNetwork-DB0201ES-edX-20127845&cm_mmca1=000026UJ&cm_mmca2=10006555&cm_mmca3=M12345678&cvosrc=email.Newsletter.M12345678&cvo_campaign=000026UJ&cm_mmc=Email_Newsletter-_-Developer_Ed%2BTech-_-WW_WW-_-SkillsNetwork-Courses-IBMDeveloperSkillsNetwork-DB0201ES-edX-20127845&cm_mmca1=000026UJ&cm_mmca2=10006555&cm_mmca3=M12345678&cvosrc=email.Newsletter.M12345678&cvo_campaign=000026UJ&cm_mmc=Email_Newsletter-_-Developer_Ed%2BTech-_-WW_WW-_-SkillsNetwork-Courses-IBMDeveloperSkillsNetwork-DB0201ES-edX-20127845&cm_mmca1=000026UJ&cm_mmca2=10006555&cm_mmca3=M12345678&cvosrc=email.Newsletter.M12345678&cvo_campaign=000026UJ&cm_mmc=Email_Newsletter-_-Developer_Ed%2BTech-_-WW_WW-_-SkillsNetwork-Courses-IBMDeveloperSkillsNetwork-DB0201ES-edX-20127845&cm_mmca1=000026UJ&cm_mmca2=10006555&cm_mmca3=M12345678&cvosrc=email.Newsletter.M12345678&cvo_campaign=000026UJ)). Como resumen, el conjunto de datos contiene las siguientes variables:\\n",
    "\\n",
    "\\n",
    "_ **Número de Área** (`ca`): Usado únicamente para identificar cada renglón del grupo de datos\\n",
    "\\n",
    "_ **Nombre del Área** (`community_area_name`): Nombre de la región dentro de Chicago \\n",
    "\\n",
    "_ **Porcentaje de Viviendas Saturadas** (`percent_of_housing_crowded`): Porcentaje de hogares con mas de un persona por habitación\\n",
    "\\n",
    "_ **Porcentaje de Hogares Bajo la Línea de Pobreza** (`percent_households_below_poverty`): Porcentaje de hogares viviendo por debajo de la línea de pobreza nacional\\n",
    "\\n",
    "_ **Porcentaje de Mayores de 16 Años Desempleados** (`percent_aged_16_unemployed`): Porcentaje de personas mayores de 16 que se encuentran desempleadas\\n",
    "\\n",
    "_ **Porcentaje de Mayores de 25 Años Sin Titulo de Secundaria** (`percent_aged_25_without_high_school_diploma`): Personas mayores de 25 que no tienen educación secundaria\\n",
    "\\n",
    "**Porcentaje de Edades Menores de 18 y Mayores de 64** (`percent_aged_under_18_or_over_64`): Porcentaje de la población que tiene menos de 18 años y mas de 64 (dependientes).\\n",
    "\\n",
    "**Ingreso Per Cápita** (per_capita_income_`): El ingreso per cápita por área se estima como la suma de los ingresos en cada distrito dividido por el numero total de habitantes \n",
    "\n",
    "***Indice de Carencias** (`hardship_index`): Puntuación que incorpora cada uno de los seis indicadores socioeconómicos seleccionados\n",
    "\n",
    "En este laboratorio veremos las variables en el conjunto de datos de los indicadores económicos y haremos también un poco de análisis básico con Python.\n"
   ]
  },
  {
   "cell_type": "markdown",
   "metadata": {},
   "source": [
    "### Conexión con la Base de Datos\n",
    "Carguemos primero las extensiones SQL y establezcamos una conexión con la base de datos"
   ]
  },
  {
   "cell_type": "code",
   "execution_count": null,
   "metadata": {},
   "outputs": [],
   "source": [
    "%load_ext sql"
   ]
  },
  {
   "cell_type": "code",
   "execution_count": null,
   "metadata": {},
   "outputs": [],
   "source": [
    "#Recuerda que la cadena de conexión tiene el formato:\n",
    "#%sql ibm_db_sa://my-username:my-password@my-hostname:my-port/my-db-name\n",
    "#Introduce abajo la cadena para Db2 en la base de datos en la instancia de Cloud\n",
    "#P. ej. Copia después de db2:// en la cadena URI de Service Credentials en la instancia de Db2. #Borra las comillas del final.\n",
    "%sql ibm_db_sa://"
   ]
  },
  {
   "cell_type": "markdown",
   "metadata": {},
   "source": [
    "### Guardar los datos en una Tabla\n",
    "##### En muchos casos el conjunto de datos que será analizado esta en un archivo .CVS (del inglés comma separated values), quizá proveniente de internet. Par analizar los datos con SQL primero debe ser almacenado en la base de datos.\n",
    "\n",
    "##### Leeremos primero los datos en formato .CVS desde internet y los guardaremos como dataframe en pandas\n",
    "\n",
    "##### Después necesitaremos crear una tabla en nuestra base de datos Db2 para almacenar los datos. El comando PERSIST de SQL “magic” simplifica el proceso de la creación de tablas y escribe los datos desde un dataframe `pandas en la tabla"
   ]
  },
  {
   "cell_type": "code",
   "execution_count": null,
   "metadata": {},
   "outputs": [],
   "source": [
    "import pandas\n",
    "chicago_socioeconomic_data = pandas.read_csv('https://data.cityofchicago.org/resource/jcxq-k9xf.csv')\n",
    "%sql PERSIST chicago_socioeconomic_data"
   ]
  },
  {
   "cell_type": "markdown",
   "metadata": {},
   "source": [
    "##### Puedes verificar que la tabla ha sido creada con éxito haciendo una consulta de esta forma:"
   ]
  },
  {
   "cell_type": "code",
   "execution_count": null,
   "metadata": {},
   "outputs": [],
   "source": [
    "%sql SELECT * FROM chicago_socioeconomic_data limit 5;"
   ]
  },
  {
   "cell_type": "markdown",
   "metadata": {},
   "source": [
    "## Problemas\n",
    "\n",
    "### Problema 1\n",
    "\n",
    "##### ¿Cuántas filas hay en la base de datos?"
   ]
  },
  {
   "cell_type": "code",
   "execution_count": null,
   "metadata": {},
   "outputs": [],
   "source": []
  },
  {
   "cell_type": "markdown",
   "metadata": {},
   "source": [
    "Haz doble clic __aquí__ para ver la solución.\n",
    "\n",
    "<!-- Hint:\n",
    "\n",
    "%sql SELECT COUNT(*) FROM chicago_socioeconomic_data;\n",
    "\n",
    "Correct answer: 78\n",
    "\n",
    "-->"
   ]
  },
  {
   "cell_type": "markdown",
   "metadata": {},
   "source": [
    "### Problema 2\n",
    "\n",
    "##### ¿Cuántas áreas de la ciudad de Chicago tienen un índice de carencia mayor a 50.0?"
   ]
  },
  {
   "cell_type": "code",
   "execution_count": null,
   "metadata": {
    "collapsed": true
   },
   "outputs": [],
   "source": []
  },
  {
   "cell_type": "markdown",
   "metadata": {},
   "source": [
    "Haz doble clic __aquí__ para ver la solución.\n",
    "\n",
    "<!-- Hint:\n",
    "\n",
    "%sql SELECT COUNT(*) FROM chicago_socioeconomic_data WHERE hardship_index > 50.0;\n",
    "Correct answer: 38\n",
    "-->\n"
   ]
  },
  {
   "cell_type": "markdown",
   "metadata": {},
   "source": [
    "### Problema 3\n",
    "\n",
    "##### ¿Cuál es el máximo valor del índice de carencia en este conjunto de datos?"
   ]
  },
  {
   "cell_type": "code",
   "execution_count": null,
   "metadata": {
    "collapsed": true
   },
   "outputs": [],
   "source": []
  },
  {
   "cell_type": "markdown",
   "metadata": {},
   "source": [
    "Haz doble clic __aquí__ para ver la solución.\n",
    "\n",
    "<!-- Hint:\n",
    "\n",
    "%sql SELECT MAX(hardship_index) FROM chicago_socioeconomic_data;\n",
    "\n",
    "Correct answer: 98.0\n",
    "-->\n"
   ]
  },
  {
   "cell_type": "markdown",
   "metadata": {},
   "source": [
    "### Problema 4\n",
    "\n",
    "##### ¿Cuál área de la ciudad tiene el índice mas alto de carencia?\n"
   ]
  },
  {
   "cell_type": "code",
   "execution_count": null,
   "metadata": {
    "collapsed": true
   },
   "outputs": [],
   "source": []
  },
  {
   "cell_type": "markdown",
   "metadata": {},
   "source": [
    "Haz doble clic __aquí__ para ver la solución.\n",
    "\n",
    "<!-- Hint:\n",
    "\n",
    "## We can use the result of the last query to as an input to this query:\n",
    "%sql SELECT community_area_name FROM chicago_socioeconomic_data where hardship_index=98.0\n",
    "\n",
    "## or another option:\n",
    "%sql SELECT community_area_name FROM chicago_socioeconomic_data ORDER BY hardship_index DESC NULLS LAST FETCH FIRST ROW ONLY;\n",
    "\n",
    "## or you can use a sub-query to determine the max hardship index:\n",
    "%sql select community_area_name from chicago_socioeconomic_data where hardship_index = ( select max(hardship_index) from chicago_socioeconomic_data ) \n",
    "\n",
    "Correct answer: 'Riverdale'\n",
    "-->"
   ]
  },
  {
   "cell_type": "markdown",
   "metadata": {},
   "source": [
    "### Problema 5\n",
    "\n",
    "##### ¿Cuáles áreas tiene un ingreso per cápita superior a los $60,000?"
   ]
  },
  {
   "cell_type": "code",
   "execution_count": null,
   "metadata": {
    "collapsed": true
   },
   "outputs": [],
   "source": []
  },
  {
   "cell_type": "markdown",
   "metadata": {},
   "source": [
    "Haz doble clic **aquí** para ver la solución.\\n",
    "\\n",
    "&lt;!-- Hint:\\n",
    "\\n",
    "%sql SELECT community_area_name FROM chicago_socioeconomic_data WHERE per_capita_income_ > 60000;\\n",
    "\\n",
    "Correct answer:Lake View,Lincoln Park, Near North Side, Loop\\n",
    "-->\\n"
   ]
  },
  {
   "cell_type": "markdown",
   "metadata": {},
   "source": [
    "### Problema 6\\n",
    "\\n",
    "##### Genera una grafica de dispersión con las variables per_capita_income_`y`hardship_index`. Explica la correlación entre las dos variables."
   ]
  },
  {
   "cell_type": "code",
   "execution_count": null,
   "metadata": {
    "collapsed": true
   },
   "outputs": [],
   "source": []
  },
  {
   "cell_type": "markdown",
   "metadata": {},
   "source": [
    "Haz doble clic **aquí** para ver la solución.\\n",
    "\\n",
    "&lt;!-- Hint:\\n",
    "# if the import command gives ModuleNotFoundError: No module named 'seaborn'\\n",
    "# then uncomment the following line i.e. delete the # to install the seaborn package \\n",
    "# !pip install seaborn\\n",
    "import matplotlib.pyplot as plt\\n",
    "%matplotlib inline\\n",
    "import seaborn as sns\\n",
    "\\n",
    "income_vs_hardship = %sql SELECT per_capita_income_, hardship_index FROM chicago_socioeconomic_data;\\n",
    "plot = sns.jointplot(x='per_capita_income_',y='hardship_index', data=income_vs_hardship.DataFrame())\\n",
    "\\n",
    "Correct answer:You can see that as Per Capita Income rises as the Hardship Index decreases. We see that the points on the scatter plot are somewhat closer to a straight line in the negative direction, so we have a negative correlation between the two variables. \\n",
    "-->\\n"
   ]
  },
  {
   "cell_type": "markdown",
   "metadata": {},
   "source": [
    "### Conclusión\\n",
    "\\n",
    "##### Ahora que sabes como efectuar análisis de datos básico con las herramientas visuales de SQL y Python, podrás explorar con mas detalle dentro de estos datos para ver como la variable`per_capita_income_`esta relacionada con`percent_households_below_poverty`y`percent_aged_16_unemployed. Trata de crear gráficos interesantes."
   ]
  },
  {
   "cell_type": "markdown",
   "metadata": {},
   "source": [
    "## Resumen\n",
    "\n",
    "##### En este laboratorio aprendiste a guardar datos reales desde internet en una base de datos (Db2 en IBM Cloud) y conocer nuevas cosas sobre los datos haciendo consultas en SQL. Además visualizaste un porción de los datos para explicar mejor la historia que estos cuentan."
   ]
  },
  {
   "cell_type": "markdown",
   "metadata": {},
   "source": [
    "Copyright © 2018 [cognitiveclass.ai](cognitiveclass.ai?utm_source=bducopyrightlink&utm_medium=dswb&utm_campaign=bdu). This notebook and its source code are released under the terms of the [MIT License](https://bigdatauniversity.com/mit-license?cm_mmc=Email_Newsletter-_-Developer_Ed%2BTech-_-WW_WW-_-SkillsNetwork-Courses-IBMDeveloperSkillsNetwork-DB0201ES-edX-20127845&cm_mmca1=000026UJ&cm_mmca2=10006555&cm_mmca3=M12345678&cvosrc=email.Newsletter.M12345678&cvo_campaign=000026UJ&cm_mmc=Email_Newsletter-_-Developer_Ed%2BTech-_-WW_WW-_-SkillsNetwork-Courses-IBMDeveloperSkillsNetwork-DB0201ES-edX-20127845&cm_mmca1=000026UJ&cm_mmca2=10006555&cm_mmca3=M12345678&cvosrc=email.Newsletter.M12345678&cvo_campaign=000026UJ).\\n"
   ]
  }
 ],
 "metadata": {
  "kernelspec": {
   "display_name": "Python 3",
   "language": "python",
   "name": "python3"
  },
  "language_info": {
   "codemirror_mode": {
    "name": "ipython",
    "version": 3
   },
   "file_extension": ".py",
   "mimetype": "text/x-python",
   "name": "python",
   "nbconvert_exporter": "python",
   "pygments_lexer": "ipython3",
   "version": "3.7.7"
  },
  "widgets": {
   "state": {},
   "version": "1.1.2"
  }
 },
 "nbformat": 4,
 "nbformat_minor": 2
}
